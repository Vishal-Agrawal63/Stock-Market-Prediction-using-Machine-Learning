{
 "cells": [
  {
   "cell_type": "code",
   "execution_count": 1,
   "id": "a02784a8-3188-4cb0-aa5c-1ec4e028f5bd",
   "metadata": {},
   "outputs": [
    {
     "name": "stdout",
     "output_type": "stream",
     "text": [
      "Requirement already satisfied: yfinance in c:\\users\\visha\\appdata\\local\\programs\\python\\python311\\lib\\site-packages (0.2.44)\n",
      "Requirement already satisfied: pandas>=1.3.0 in c:\\users\\visha\\appdata\\local\\programs\\python\\python311\\lib\\site-packages (from yfinance) (2.2.3)\n",
      "Requirement already satisfied: numpy>=1.16.5 in c:\\users\\visha\\appdata\\local\\programs\\python\\python311\\lib\\site-packages (from yfinance) (1.24.3)\n",
      "Requirement already satisfied: requests>=2.31 in c:\\users\\visha\\appdata\\local\\programs\\python\\python311\\lib\\site-packages (from yfinance) (2.31.0)\n",
      "Requirement already satisfied: multitasking>=0.0.7 in c:\\users\\visha\\appdata\\local\\programs\\python\\python311\\lib\\site-packages (from yfinance) (0.0.11)\n",
      "Requirement already satisfied: lxml>=4.9.1 in c:\\users\\visha\\appdata\\local\\programs\\python\\python311\\lib\\site-packages (from yfinance) (4.9.4)\n",
      "Requirement already satisfied: platformdirs>=2.0.0 in c:\\users\\visha\\appdata\\local\\programs\\python\\python311\\lib\\site-packages (from yfinance) (3.10.0)\n",
      "Requirement already satisfied: pytz>=2022.5 in c:\\users\\visha\\appdata\\local\\programs\\python\\python311\\lib\\site-packages (from yfinance) (2023.3.post1)\n",
      "Requirement already satisfied: frozendict>=2.3.4 in c:\\users\\visha\\appdata\\local\\programs\\python\\python311\\lib\\site-packages (from yfinance) (2.4.4)\n",
      "Requirement already satisfied: peewee>=3.16.2 in c:\\users\\visha\\appdata\\local\\programs\\python\\python311\\lib\\site-packages (from yfinance) (3.17.6)\n",
      "Requirement already satisfied: beautifulsoup4>=4.11.1 in c:\\users\\visha\\appdata\\local\\programs\\python\\python311\\lib\\site-packages (from yfinance) (4.12.2)\n",
      "Requirement already satisfied: html5lib>=1.1 in c:\\users\\visha\\appdata\\local\\programs\\python\\python311\\lib\\site-packages (from yfinance) (1.1)\n",
      "Requirement already satisfied: soupsieve>1.2 in c:\\users\\visha\\appdata\\local\\programs\\python\\python311\\lib\\site-packages (from beautifulsoup4>=4.11.1->yfinance) (2.5)\n",
      "Requirement already satisfied: six>=1.9 in c:\\users\\visha\\appdata\\local\\programs\\python\\python311\\lib\\site-packages (from html5lib>=1.1->yfinance) (1.16.0)\n",
      "Requirement already satisfied: webencodings in c:\\users\\visha\\appdata\\local\\programs\\python\\python311\\lib\\site-packages (from html5lib>=1.1->yfinance) (0.5.1)\n",
      "Requirement already satisfied: python-dateutil>=2.8.2 in c:\\users\\visha\\appdata\\local\\programs\\python\\python311\\lib\\site-packages (from pandas>=1.3.0->yfinance) (2.8.2)\n",
      "Requirement already satisfied: tzdata>=2022.7 in c:\\users\\visha\\appdata\\local\\programs\\python\\python311\\lib\\site-packages (from pandas>=1.3.0->yfinance) (2024.2)\n",
      "Requirement already satisfied: charset-normalizer<4,>=2 in c:\\users\\visha\\appdata\\local\\programs\\python\\python311\\lib\\site-packages (from requests>=2.31->yfinance) (3.2.0)\n",
      "Requirement already satisfied: idna<4,>=2.5 in c:\\users\\visha\\appdata\\local\\programs\\python\\python311\\lib\\site-packages (from requests>=2.31->yfinance) (3.4)\n",
      "Requirement already satisfied: urllib3<3,>=1.21.1 in c:\\users\\visha\\appdata\\local\\programs\\python\\python311\\lib\\site-packages (from requests>=2.31->yfinance) (1.26.16)\n",
      "Requirement already satisfied: certifi>=2017.4.17 in c:\\users\\visha\\appdata\\local\\programs\\python\\python311\\lib\\site-packages (from requests>=2.31->yfinance) (2023.7.22)\n",
      "Note: you may need to restart the kernel to use updated packages.\n"
     ]
    }
   ],
   "source": [
    "pip install yfinance"
   ]
  },
  {
   "cell_type": "code",
   "execution_count": 4,
   "id": "83d526a9-870a-4ac9-8393-1080ee57bebf",
   "metadata": {},
   "outputs": [],
   "source": [
    "import yfinance as yf"
   ]
  },
  {
   "cell_type": "code",
   "execution_count": 16,
   "id": "70f9a05a-5dfc-4695-ae52-d1eb213de5c5",
   "metadata": {},
   "outputs": [],
   "source": [
    "from datetime import datetime\n",
    "end = datetime.now()\n",
    "start = datetime(end.year-20,end.month,end.day)"
   ]
  },
  {
   "cell_type": "code",
   "execution_count": 7,
   "id": "d8c6ada7-6128-475f-abe1-9a74fa69950d",
   "metadata": {},
   "outputs": [
    {
     "name": "stderr",
     "output_type": "stream",
     "text": [
      "[*********************100%***********************]  1 of 1 completed\n"
     ]
    }
   ],
   "source": [
    "stock = \"GOOG\"\n",
    "google_data = yf.download(stock,start,end)"
   ]
  },
  {
   "cell_type": "code",
   "execution_count": 8,
   "id": "dabdb980-6bf9-484d-b59d-d1fcb9bf6c17",
   "metadata": {},
   "outputs": [
    {
     "data": {
      "text/html": [
       "<div>\n",
       "<style scoped>\n",
       "    .dataframe tbody tr th:only-of-type {\n",
       "        vertical-align: middle;\n",
       "    }\n",
       "\n",
       "    .dataframe tbody tr th {\n",
       "        vertical-align: top;\n",
       "    }\n",
       "\n",
       "    .dataframe thead th {\n",
       "        text-align: right;\n",
       "    }\n",
       "</style>\n",
       "<table border=\"1\" class=\"dataframe\">\n",
       "  <thead>\n",
       "    <tr style=\"text-align: right;\">\n",
       "      <th></th>\n",
       "      <th>Open</th>\n",
       "      <th>High</th>\n",
       "      <th>Low</th>\n",
       "      <th>Close</th>\n",
       "      <th>Adj Close</th>\n",
       "      <th>Volume</th>\n",
       "    </tr>\n",
       "    <tr>\n",
       "      <th>Date</th>\n",
       "      <th></th>\n",
       "      <th></th>\n",
       "      <th></th>\n",
       "      <th></th>\n",
       "      <th></th>\n",
       "      <th></th>\n",
       "    </tr>\n",
       "  </thead>\n",
       "  <tbody>\n",
       "    <tr>\n",
       "      <th>2014-10-01</th>\n",
       "      <td>28.721645</td>\n",
       "      <td>28.799931</td>\n",
       "      <td>28.272877</td>\n",
       "      <td>28.335705</td>\n",
       "      <td>28.266289</td>\n",
       "      <td>28909153</td>\n",
       "    </tr>\n",
       "    <tr>\n",
       "      <th>2014-10-02</th>\n",
       "      <td>28.287836</td>\n",
       "      <td>28.517206</td>\n",
       "      <td>28.088882</td>\n",
       "      <td>28.425957</td>\n",
       "      <td>28.356319</td>\n",
       "      <td>23568530</td>\n",
       "    </tr>\n",
       "    <tr>\n",
       "      <th>2014-10-03</th>\n",
       "      <td>28.574051</td>\n",
       "      <td>28.782228</td>\n",
       "      <td>28.546625</td>\n",
       "      <td>28.685246</td>\n",
       "      <td>28.614971</td>\n",
       "      <td>22834521</td>\n",
       "    </tr>\n",
       "    <tr>\n",
       "      <th>2014-10-06</th>\n",
       "      <td>28.860764</td>\n",
       "      <td>28.970463</td>\n",
       "      <td>28.643360</td>\n",
       "      <td>28.788462</td>\n",
       "      <td>28.717936</td>\n",
       "      <td>24292512</td>\n",
       "    </tr>\n",
       "    <tr>\n",
       "      <th>2014-10-07</th>\n",
       "      <td>28.641365</td>\n",
       "      <td>28.684746</td>\n",
       "      <td>28.109823</td>\n",
       "      <td>28.109823</td>\n",
       "      <td>28.040958</td>\n",
       "      <td>38226664</td>\n",
       "    </tr>\n",
       "  </tbody>\n",
       "</table>\n",
       "</div>"
      ],
      "text/plain": [
       "                 Open       High        Low      Close  Adj Close    Volume\n",
       "Date                                                                       \n",
       "2014-10-01  28.721645  28.799931  28.272877  28.335705  28.266289  28909153\n",
       "2014-10-02  28.287836  28.517206  28.088882  28.425957  28.356319  23568530\n",
       "2014-10-03  28.574051  28.782228  28.546625  28.685246  28.614971  22834521\n",
       "2014-10-06  28.860764  28.970463  28.643360  28.788462  28.717936  24292512\n",
       "2014-10-07  28.641365  28.684746  28.109823  28.109823  28.040958  38226664"
      ]
     },
     "execution_count": 8,
     "metadata": {},
     "output_type": "execute_result"
    }
   ],
   "source": [
    "google_data.head()"
   ]
  },
  {
   "cell_type": "code",
   "execution_count": 9,
   "id": "be02f598-b681-4e9d-b93e-fd463e03dd10",
   "metadata": {},
   "outputs": [
    {
     "data": {
      "text/plain": [
       "(2517, 6)"
      ]
     },
     "execution_count": 9,
     "metadata": {},
     "output_type": "execute_result"
    }
   ],
   "source": [
    "google_data.shape\n"
   ]
  },
  {
   "cell_type": "code",
   "execution_count": 11,
   "id": "cfd81205-d0d0-493d-a33e-15bd43faaf58",
   "metadata": {},
   "outputs": [
    {
     "data": {
      "text/html": [
       "<div>\n",
       "<style scoped>\n",
       "    .dataframe tbody tr th:only-of-type {\n",
       "        vertical-align: middle;\n",
       "    }\n",
       "\n",
       "    .dataframe tbody tr th {\n",
       "        vertical-align: top;\n",
       "    }\n",
       "\n",
       "    .dataframe thead th {\n",
       "        text-align: right;\n",
       "    }\n",
       "</style>\n",
       "<table border=\"1\" class=\"dataframe\">\n",
       "  <thead>\n",
       "    <tr style=\"text-align: right;\">\n",
       "      <th></th>\n",
       "      <th>Open</th>\n",
       "      <th>High</th>\n",
       "      <th>Low</th>\n",
       "      <th>Close</th>\n",
       "      <th>Adj Close</th>\n",
       "      <th>Volume</th>\n",
       "    </tr>\n",
       "  </thead>\n",
       "  <tbody>\n",
       "    <tr>\n",
       "      <th>count</th>\n",
       "      <td>2517.000000</td>\n",
       "      <td>2517.000000</td>\n",
       "      <td>2517.000000</td>\n",
       "      <td>2517.000000</td>\n",
       "      <td>2517.000000</td>\n",
       "      <td>2.517000e+03</td>\n",
       "    </tr>\n",
       "    <tr>\n",
       "      <th>mean</th>\n",
       "      <td>78.973853</td>\n",
       "      <td>79.817995</td>\n",
       "      <td>78.195247</td>\n",
       "      <td>79.019918</td>\n",
       "      <td>78.833857</td>\n",
       "      <td>3.129802e+07</td>\n",
       "    </tr>\n",
       "    <tr>\n",
       "      <th>std</th>\n",
       "      <td>42.713876</td>\n",
       "      <td>43.193887</td>\n",
       "      <td>42.283220</td>\n",
       "      <td>42.731148</td>\n",
       "      <td>42.642460</td>\n",
       "      <td>1.548750e+07</td>\n",
       "    </tr>\n",
       "    <tr>\n",
       "      <th>min</th>\n",
       "      <td>24.664783</td>\n",
       "      <td>24.730902</td>\n",
       "      <td>24.311253</td>\n",
       "      <td>24.560070</td>\n",
       "      <td>24.499903</td>\n",
       "      <td>5.682890e+06</td>\n",
       "    </tr>\n",
       "    <tr>\n",
       "      <th>25%</th>\n",
       "      <td>41.735500</td>\n",
       "      <td>42.042500</td>\n",
       "      <td>41.481998</td>\n",
       "      <td>41.783501</td>\n",
       "      <td>41.681141</td>\n",
       "      <td>2.161050e+07</td>\n",
       "    </tr>\n",
       "    <tr>\n",
       "      <th>50%</th>\n",
       "      <td>61.400501</td>\n",
       "      <td>62.028000</td>\n",
       "      <td>60.826500</td>\n",
       "      <td>61.457500</td>\n",
       "      <td>61.306942</td>\n",
       "      <td>2.739140e+07</td>\n",
       "    </tr>\n",
       "    <tr>\n",
       "      <th>75%</th>\n",
       "      <td>115.809998</td>\n",
       "      <td>117.399002</td>\n",
       "      <td>114.614998</td>\n",
       "      <td>115.807999</td>\n",
       "      <td>115.524292</td>\n",
       "      <td>3.625200e+07</td>\n",
       "    </tr>\n",
       "    <tr>\n",
       "      <th>max</th>\n",
       "      <td>191.750000</td>\n",
       "      <td>193.309998</td>\n",
       "      <td>190.619995</td>\n",
       "      <td>192.660004</td>\n",
       "      <td>192.406723</td>\n",
       "      <td>2.232980e+08</td>\n",
       "    </tr>\n",
       "  </tbody>\n",
       "</table>\n",
       "</div>"
      ],
      "text/plain": [
       "              Open         High          Low        Close    Adj Close  \\\n",
       "count  2517.000000  2517.000000  2517.000000  2517.000000  2517.000000   \n",
       "mean     78.973853    79.817995    78.195247    79.019918    78.833857   \n",
       "std      42.713876    43.193887    42.283220    42.731148    42.642460   \n",
       "min      24.664783    24.730902    24.311253    24.560070    24.499903   \n",
       "25%      41.735500    42.042500    41.481998    41.783501    41.681141   \n",
       "50%      61.400501    62.028000    60.826500    61.457500    61.306942   \n",
       "75%     115.809998   117.399002   114.614998   115.807999   115.524292   \n",
       "max     191.750000   193.309998   190.619995   192.660004   192.406723   \n",
       "\n",
       "             Volume  \n",
       "count  2.517000e+03  \n",
       "mean   3.129802e+07  \n",
       "std    1.548750e+07  \n",
       "min    5.682890e+06  \n",
       "25%    2.161050e+07  \n",
       "50%    2.739140e+07  \n",
       "75%    3.625200e+07  \n",
       "max    2.232980e+08  "
      ]
     },
     "execution_count": 11,
     "metadata": {},
     "output_type": "execute_result"
    }
   ],
   "source": [
    "google_data.describe()"
   ]
  },
  {
   "cell_type": "code",
   "execution_count": 12,
   "id": "b7986f20-534c-4f3b-b0df-7c3b4267ce8c",
   "metadata": {},
   "outputs": [
    {
     "name": "stdout",
     "output_type": "stream",
     "text": [
      "<class 'pandas.core.frame.DataFrame'>\n",
      "DatetimeIndex: 2517 entries, 2014-10-01 to 2024-10-01\n",
      "Data columns (total 6 columns):\n",
      " #   Column     Non-Null Count  Dtype  \n",
      "---  ------     --------------  -----  \n",
      " 0   Open       2517 non-null   float64\n",
      " 1   High       2517 non-null   float64\n",
      " 2   Low        2517 non-null   float64\n",
      " 3   Close      2517 non-null   float64\n",
      " 4   Adj Close  2517 non-null   float64\n",
      " 5   Volume     2517 non-null   int64  \n",
      "dtypes: float64(5), int64(1)\n",
      "memory usage: 137.6 KB\n"
     ]
    }
   ],
   "source": [
    "google_data.info()"
   ]
  },
  {
   "cell_type": "code",
   "execution_count": 13,
   "id": "602d079c-bdfd-4324-aea5-281d23433d9d",
   "metadata": {},
   "outputs": [
    {
     "data": {
      "text/plain": [
       "Open         0\n",
       "High         0\n",
       "Low          0\n",
       "Close        0\n",
       "Adj Close    0\n",
       "Volume       0\n",
       "dtype: int64"
      ]
     },
     "execution_count": 13,
     "metadata": {},
     "output_type": "execute_result"
    }
   ],
   "source": [
    "google_data.isna().sum()"
   ]
  },
  {
   "cell_type": "code",
   "execution_count": 14,
   "id": "87cafba0-0fbd-45cb-ba71-b5d84794f304",
   "metadata": {},
   "outputs": [],
   "source": [
    "import matplotlib.pyplot as plt\n",
    "%matplotlib inline"
   ]
  },
  {
   "cell_type": "code",
   "execution_count": 17,
   "id": "0625cb1f-0d52-4376-aeeb-7e8c7b4e24a4",
   "metadata": {},
   "outputs": [
    {
     "data": {
      "text/plain": [
       "Text(0.5, 1.0, 'Closing Price of Google data')"
      ]
     },
     "execution_count": 17,
     "metadata": {},
     "output_type": "execute_result"
    },
    {
     "data": {
      "image/png": "[encoded data removed]",
      "text/plain": [
       "<Figure size 1500x500 with 1 Axes>"
      ]
     },
     "metadata": {},
     "output_type": "display_data"
    }
   ],
   "source": [
    "plt.figure(figsize = (15,5))\n",
    "google_data['Adj Close'].plot()\n",
    "plt.xlabel('years')\n",
    "plt.ylabel('Adj Close')\n",
    "plt.title(\"Closing Price of Google data\")\n"
   ]
  },
  {
   "cell_type": "code",
   "execution_count": 18,
   "id": "84b4f58d-553c-4c6c-91ca-ff5e55f62357",
   "metadata": {},
   "outputs": [],
   "source": [
    "from datetime import datetime\n",
    "end = datetime.now()\n",
    "start = datetime(end.year-20,end.month,end.day)"
   ]
  },
  {
   "cell_type": "code",
   "execution_count": null,
   "id": "e20a1138-7d9f-4540-bbc0-e6557b945eaa",
   "metadata": {},
   "outputs": [],
   "source": [
    "def plot_graph(figsize,):\n",
    "    plt.figure(figsize = (15,5))\n",
    "    google_data['Adj Close'].plot()\n",
    "    plt.xlabel('years')\n",
    "    plt.ylabel('Adj Close')\n",
    "    plt.title(\"Closing Price of Google data\")"
   ]
  }
 ],
 "metadata": {
  "kernelspec": {
   "display_name": "Python 3 (ipykernel)",
   "language": "python",
   "name": "python3"
  },
  "language_info": {
   "codemirror_mode": {
    "name": "ipython",
    "version": 3
   },
   "file_extension": ".py",
   "mimetype": "text/x-python",
   "name": "python",
   "nbconvert_exporter": "python",
   "pygments_lexer": "ipython3",
   "version": "3.11.5"
  }
 },
 "nbformat": 4,
 "nbformat_minor": 5
}
